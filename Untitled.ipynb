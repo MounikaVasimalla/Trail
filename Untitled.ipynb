{
 "cells": [
  {
   "cell_type": "code",
   "execution_count": null,
   "metadata": {},
   "outputs": [],
   "source": [
    "import pandas as pd\n",
    "import matplotlib.pyplot as plt\n",
    "import numpy as np\n",
    "%matplotlib inline\n",
    "data = pd.read_csv(\"Widya_dataset.csv\")\n",
    "data.head()"
   ]
  },
  {
   "cell_type": "code",
   "execution_count": null,
   "metadata": {},
   "outputs": [],
   "source": [
    "data['Date'] = pd.to_datetime(data.Date)\n",
    "data['total_Cases'] = data.iloc[:,3:6].sum(axis=1)\n",
    "# date['rate'] = data['total_cases'].pct_change(axis=0)\n",
    "data.head()"
   ]
  },
  {
   "cell_type": "code",
   "execution_count": 32,
   "metadata": {},
   "outputs": [
    {
     "name": "stdout",
     "output_type": "stream",
     "text": [
      "            Sno  ConfirmedIndianNational  ConfirmedForeignNational  Cured  \\\n",
      "Date                                                                        \n",
      "2020-04-03  255                       12                        16      3   \n",
      "\n",
      "            Deaths  total_Cases  \n",
      "Date                             \n",
      "2020-04-03       0           31  \n"
     ]
    }
   ],
   "source": [
    "d2 = data.loc[data.Date == '04/03/2020']\n",
    "grpd_data= d2.groupby(by=[\"Date\"], dropna=False, sort = False).sum()\n",
    "print(grpd_data)"
   ]
  },
  {
   "cell_type": "code",
   "execution_count": null,
   "metadata": {},
   "outputs": [],
   "source": [
    "data2 = data['total_Cases']\n",
    "data2\n",
    "a = np.array(data2.values.tolist())\n",
    "tc = []\n",
    "i = 0\n",
    "print(a[i])\n",
    "print(len(a))\n",
    "# print(a)\n",
    "while i in range(len(a)):\n",
    "    temp = a[i+1] - a[i]\n",
    "    print(temp)"
   ]
  },
  {
   "cell_type": "code",
   "execution_count": null,
   "metadata": {},
   "outputs": [],
   "source": []
  }
 ],
 "metadata": {
  "kernelspec": {
   "display_name": "Python 3",
   "language": "python",
   "name": "python3"
  },
  "language_info": {
   "codemirror_mode": {
    "name": "ipython",
    "version": 3
   },
   "file_extension": ".py",
   "mimetype": "text/x-python",
   "name": "python",
   "nbconvert_exporter": "python",
   "pygments_lexer": "ipython3",
   "version": "3.8.3"
  }
 },
 "nbformat": 4,
 "nbformat_minor": 4
}
